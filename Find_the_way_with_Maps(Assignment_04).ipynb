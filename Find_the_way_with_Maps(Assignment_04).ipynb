{
  "nbformat": 4,
  "nbformat_minor": 0,
  "metadata": {
    "colab": {
      "provenance": [],
      "authorship_tag": "ABX9TyPyjuiVNLtgt9xudqjhF4fp",
      "include_colab_link": true
    },
    "kernelspec": {
      "name": "python3",
      "display_name": "Python 3"
    },
    "language_info": {
      "name": "python"
    }
  },
  "cells": [
    {
      "cell_type": "markdown",
      "metadata": {
        "id": "view-in-github",
        "colab_type": "text"
      },
      "source": [
        "<a href=\"https://colab.research.google.com/github/anshumanmadhav44/Edyoda_Assignments/blob/main/Find_the_way_with_Maps(Assignment_04).ipynb\" target=\"_parent\"><img src=\"https://colab.research.google.com/assets/colab-badge.svg\" alt=\"Open In Colab\"/></a>"
      ]
    },
    {
      "cell_type": "markdown",
      "source": [
        "Write a Python program to triple all numbers of a given list of integers. Use Python map.\n",
        "\n",
        "sample list: [1, 2, 3, 4, 5, 6, 7]\n",
        "\n",
        "Triple of list numbers: [3, 6, 9, 12, 15, 18, 21]"
      ],
      "metadata": {
        "id": "ZArn4SU3CCQT"
      }
    },
    {
      "cell_type": "code",
      "execution_count": 1,
      "metadata": {
        "colab": {
          "base_uri": "https://localhost:8080/"
        },
        "id": "bTGJueWOB1_n",
        "outputId": "01da7124-6de8-4a77-d80b-22434b3e5010"
      },
      "outputs": [
        {
          "output_type": "stream",
          "name": "stdout",
          "text": [
            "Original numbers: [1, 2, 3, 4, 5, 6, 7]\n",
            "Tripled numbers: [3, 6, 9, 12, 15, 18, 21]\n"
          ]
        }
      ],
      "source": [
        "# Sample list of integers\n",
        "numbers = [1, 2, 3, 4, 5, 6, 7]\n",
        "\n",
        "# Using map with a lambda function to triple all the numbers\n",
        "tripled_numbers = list(map(lambda num: num * 3, numbers))\n",
        "\n",
        "# Printing the tripled numbers\n",
        "print(\"Original numbers:\", numbers)\n",
        "print(\"Tripled numbers:\", tripled_numbers)"
      ]
    },
    {
      "cell_type": "code",
      "source": [
        "# Testing code by providing list of numbers at run-time\n",
        "# Getting user input for the list of numbers\n",
        "numbers = input(\"Enter the numbers (separated by spaces): \").split()\n",
        "\n",
        "# Converting the input strings to integers\n",
        "numbers = list(map(int, numbers))\n",
        "\n",
        "# Using map with a lambda function to triple all the numbers\n",
        "tripled_numbers = list(map(lambda num: num * 3, numbers))\n",
        "\n",
        "# Printing the tripled numbers\n",
        "print(\"Original numbers:\", numbers)\n",
        "print(\"Tripled numbers:\", tripled_numbers)"
      ],
      "metadata": {
        "colab": {
          "base_uri": "https://localhost:8080/"
        },
        "id": "VAJ-fpwLCntS",
        "outputId": "a4d9e30c-1f4a-40df-dc61-8a5272878b82"
      },
      "execution_count": 2,
      "outputs": [
        {
          "output_type": "stream",
          "name": "stdout",
          "text": [
            "Enter the numbers (separated by spaces): 4 5 6 7 8 9 10\n",
            "Original numbers: [4, 5, 6, 7, 8, 9, 10]\n",
            "Tripled numbers: [12, 15, 18, 21, 24, 27, 30]\n"
          ]
        }
      ]
    }
  ]
}