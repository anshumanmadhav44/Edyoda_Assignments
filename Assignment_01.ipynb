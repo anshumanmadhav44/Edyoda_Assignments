{
  "nbformat": 4,
  "nbformat_minor": 0,
  "metadata": {
    "colab": {
      "provenance": [],
      "authorship_tag": "ABX9TyN1MNC+Jwhr0afY9+DtKJvK",
      "include_colab_link": true
    },
    "kernelspec": {
      "name": "python3",
      "display_name": "Python 3"
    },
    "language_info": {
      "name": "python"
    }
  },
  "cells": [
    {
      "cell_type": "markdown",
      "metadata": {
        "id": "view-in-github",
        "colab_type": "text"
      },
      "source": [
        "<a href=\"https://colab.research.google.com/github/anshumanmadhav44/Edyoda_Assignments/blob/main/Assignment_01.ipynb\" target=\"_parent\"><img src=\"https://colab.research.google.com/assets/colab-badge.svg\" alt=\"Open In Colab\"/></a>"
      ]
    },
    {
      "cell_type": "markdown",
      "source": [
        "**Problem Statement 1**\n",
        "\n",
        "Write a program that takes a integer from keyboard and prints a string according the business logic given below\n",
        "\n",
        "1. For each multiple of 3, Print 'Fizz',\n",
        "\n",
        "2. For each multiple of 5, Print Fuzz\n",
        "\n",
        "3. For each multiple of 3 and 5 Print 'Fizz Buzz"
      ],
      "metadata": {
        "id": "sVn_FmDq8MR6"
      }
    },
    {
      "cell_type": "code",
      "execution_count": 4,
      "metadata": {
        "colab": {
          "base_uri": "https://localhost:8080/"
        },
        "id": "mzgUC7VN7-bb",
        "outputId": "a7ab3f6a-443b-4219-8ebc-35f3af1cbda6"
      },
      "outputs": [
        {
          "output_type": "stream",
          "name": "stdout",
          "text": [
            "Enter an integer:15\n",
            "Fizz Buzz\n"
          ]
        }
      ],
      "source": [
        "num = int(input(\"Enter an integer:\"))\n",
        "if (num%3 == 0) and (num%5==0):\n",
        "    print(\"Fizz Buzz\")\n",
        "elif (num%3==0):\n",
        "    print(\"Fizz\") \n",
        "elif (num%5==0):\n",
        "    print(\"Fuzz\") \n"
      ]
    },
    {
      "cell_type": "markdown",
      "source": [
        "**Problem Statement 2**\n",
        "\n",
        "Write a program that computes the net amount of a bank account based on a transaction log from console input. The transaction log / sample input is in the format as shown below:\n",
        "\n",
        "**Input**\n",
        "\n",
        "log_message = D:100 W:10\n",
        "\n",
        "**Output**\n",
        "\n",
        "90\n",
        "\n",
        "**Input**\n",
        "\n",
        "Log_message = D:100 W:200 D:400\n",
        "\n",
        "**Output**\n",
        "\n",
        "300 (100 - 200 + 400 = 300)"
      ],
      "metadata": {
        "id": "RN7vgFXq9hB8"
      }
    },
    {
      "cell_type": "code",
      "source": [
        "balance_amount = 0\n",
        "data = input(\"Enter transaction details:\")\n",
        "transaction_log = data.split(\" \")\n",
        "for item in transaction_log:\n",
        "    if \"D\" in item:\n",
        "        balance_amount += int(item.strip('D:'))\n",
        "    if \"W\" in item:\n",
        "        balance_amount -= int(item.strip('W:'))\n",
        "print(balance_amount)\n"
      ],
      "metadata": {
        "colab": {
          "base_uri": "https://localhost:8080/"
        },
        "id": "0oJHi4tQ9wwu",
        "outputId": "8cb5ef87-f701-49ac-ec98-415b1086e097"
      },
      "execution_count": 5,
      "outputs": [
        {
          "output_type": "stream",
          "name": "stdout",
          "text": [
            "Enter transaction details:D:100 W:200 D:400\n",
            "300\n"
          ]
        }
      ]
    },
    {
      "cell_type": "markdown",
      "source": [
        "**Problem Statement 3**\n",
        "\n",
        "Write a program that prompts the user to input number of calls and calculate the monthly telephone bills as per the following rule:\n",
        "\n",
        "● Minimum Rs. 200 for up to 100 calls.\n",
        "\n",
        "● Plus Rs. 0.60 per call for next 50 calls.\n",
        "\n",
        "● Plus Rs. 0.50 per call for next 50 calls.\n",
        "\n",
        "● Plus Rs. 0.40 per call for any call beyond 200 calls."
      ],
      "metadata": {
        "id": "TIzmSf8b-b1s"
      }
    },
    {
      "cell_type": "code",
      "source": [
        "call_count = int(input(\"Enter number of calls: \"))\n",
        "\n",
        "if call_count <= 100:\n",
        "    monthly_bill = 200 \n",
        "elif call_count > 100 and call_count <= 150:\n",
        "    call_count = call_count - 100\n",
        "    monthly_bill = 200 + (0.60 * call_count)\n",
        "elif call_count > 150 and call_count <= 200:\n",
        "    call_count = call_count - 150\n",
        "    monthly_bill = 200 + (0.60 * 50) + (0.50 * call_count)\n",
        "else:\n",
        "    call_count = call_count - 200\n",
        "    monthly_bill = 200 + (0.60 * 50) + (0.50 * 50) + (0.40 * call_count)\n",
        "\n",
        "print(\"Total bill amount is:\", monthly_bill)\n"
      ],
      "metadata": {
        "colab": {
          "base_uri": "https://localhost:8080/"
        },
        "id": "4gzOAyT--nkp",
        "outputId": "a2d0ae22-1838-4c7b-e1b8-c16bb7970bb2"
      },
      "execution_count": 6,
      "outputs": [
        {
          "output_type": "stream",
          "name": "stdout",
          "text": [
            "Enter number of calls: 250\n",
            "Total bill amount is: 275.0\n"
          ]
        }
      ]
    }
  ]
}