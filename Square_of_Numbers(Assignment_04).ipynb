{
  "nbformat": 4,
  "nbformat_minor": 0,
  "metadata": {
    "colab": {
      "provenance": [],
      "authorship_tag": "ABX9TyMswy1/djOE6HrDZOgpbPsi",
      "include_colab_link": true
    },
    "kernelspec": {
      "name": "python3",
      "display_name": "Python 3"
    },
    "language_info": {
      "name": "python"
    }
  },
  "cells": [
    {
      "cell_type": "markdown",
      "metadata": {
        "id": "view-in-github",
        "colab_type": "text"
      },
      "source": [
        "<a href=\"https://colab.research.google.com/github/anshumanmadhav44/Edyoda_Assignments/blob/main/Square_of_Numbers(Assignment_04).ipynb\" target=\"_parent\"><img src=\"https://colab.research.google.com/assets/colab-badge.svg\" alt=\"Open In Colab\"/></a>"
      ]
    },
    {
      "cell_type": "markdown",
      "source": [
        "Write a Python program to square the elements of a list using map() function."
      ],
      "metadata": {
        "id": "8DGbrYL2EbOm"
      }
    },
    {
      "cell_type": "code",
      "execution_count": 1,
      "metadata": {
        "colab": {
          "base_uri": "https://localhost:8080/"
        },
        "id": "AyxuQuQPDtis",
        "outputId": "992f9084-aab4-46d8-fd5c-ac4c8ea796a4"
      },
      "outputs": [
        {
          "output_type": "stream",
          "name": "stdout",
          "text": [
            "Enter the numbers (separated by spaces): 4 5 2 9\n",
            "Original numbers: [4, 5, 2, 9]\n",
            "Squared numbers: [16, 25, 4, 81]\n"
          ]
        }
      ],
      "source": [
        "# Getting user input for the list of numbers\n",
        "numbers = input(\"Enter the numbers (separated by spaces): \").split()\n",
        "\n",
        "# Converting the input strings to integers\n",
        "numbers = list(map(int, numbers))\n",
        "\n",
        "# Using map with a lambda function to square all the numbers\n",
        "squared_numbers = list(map(lambda num: num ** 2, numbers))\n",
        "\n",
        "# Printing the squared numbers\n",
        "print(\"Original numbers:\", numbers)\n",
        "print(\"Squared numbers:\", squared_numbers)"
      ]
    }
  ]
}