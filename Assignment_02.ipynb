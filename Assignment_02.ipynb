{
  "nbformat": 4,
  "nbformat_minor": 0,
  "metadata": {
    "colab": {
      "provenance": [],
      "authorship_tag": "ABX9TyNm+aAEvIMHcneXMo/gZ8NP",
      "include_colab_link": true
    },
    "kernelspec": {
      "name": "python3",
      "display_name": "Python 3"
    },
    "language_info": {
      "name": "python"
    }
  },
  "cells": [
    {
      "cell_type": "markdown",
      "metadata": {
        "id": "view-in-github",
        "colab_type": "text"
      },
      "source": [
        "<a href=\"https://colab.research.google.com/github/anshumanmadhav44/Edyoda_Assignments/blob/main/Assignment_02.ipynb\" target=\"_parent\"><img src=\"https://colab.research.google.com/assets/colab-badge.svg\" alt=\"Open In Colab\"/></a>"
      ]
    },
    {
      "cell_type": "markdown",
      "source": [
        "# Easy"
      ],
      "metadata": {
        "id": "m-ZVH7tjCkuU"
      }
    },
    {
      "cell_type": "markdown",
      "source": [
        "**Problem Statement 01**\n",
        "\n",
        "Given a list of numbers\n",
        "\n",
        "filenames = ['view.jpg', 'bear.jpg', 'ball.png']\n",
        "\n",
        "Write a program Add the file 'phone.jpg' to this list at the beginning. Then delete the file 'ball.png'. In response, print the filenames list to the console."
      ],
      "metadata": {
        "id": "RfsL48yXC5Lo"
      }
    },
    {
      "cell_type": "code",
      "source": [
        "filenames = ['view.jpg','bear.jpg','ball.png']\n",
        "print(filenames)\n",
        "#Adding 'phone.jpg' at the beginning of list\n",
        "filenames.insert(0,'phone.jpg')\n",
        "print(filenames)\n",
        "#Deleting 'ball.png'\n",
        "del filenames[3]\n",
        "print(filenames)"
      ],
      "metadata": {
        "id": "gaBR7WiGDICr",
        "colab": {
          "base_uri": "https://localhost:8080/"
        },
        "outputId": "9bbce563-aacb-441e-b6e4-1f11f45fbe27"
      },
      "execution_count": null,
      "outputs": [
        {
          "output_type": "stream",
          "name": "stdout",
          "text": [
            "['view.jpg', 'bear.jpg', 'ball.png']\n",
            "['phone.jpg', 'view.jpg', 'bear.jpg', 'ball.png']\n",
            "['phone.jpg', 'view.jpg', 'bear.jpg']\n"
          ]
        }
      ]
    },
    {
      "cell_type": "markdown",
      "source": [
        "**Problem Statement 02**\n",
        "\n",
        "L = [1,2,3,4,5,6,7,8,9,10]\n",
        "\n",
        "Write a program to find the maximum,minimum and average element in a given list without using max."
      ],
      "metadata": {
        "id": "JfLGLh4nE7X6"
      }
    },
    {
      "cell_type": "code",
      "source": [
        "#Maximum\n",
        "L = [1,2,3,4,5,6,7,8,9,10]\n",
        "max = L[0]\n",
        "for ele in L:\n",
        "  if (max < ele):\n",
        "    max = ele\n",
        "print(max)"
      ],
      "metadata": {
        "colab": {
          "base_uri": "https://localhost:8080/"
        },
        "id": "QbMpt8joFKzv",
        "outputId": "0d07cb15-12c6-4984-e962-2c8b014f673a"
      },
      "execution_count": null,
      "outputs": [
        {
          "output_type": "stream",
          "name": "stdout",
          "text": [
            "10\n"
          ]
        }
      ]
    },
    {
      "cell_type": "code",
      "source": [
        "#Minimum\n",
        "L = [1,2,3,4,5,6,7,8,9,10]\n",
        "min = L[0]\n",
        "for ele in L:\n",
        "  if (ele < min):\n",
        "    min = ele\n",
        "print(min)"
      ],
      "metadata": {
        "colab": {
          "base_uri": "https://localhost:8080/"
        },
        "id": "0apkOqFlF5-5",
        "outputId": "e9db1cac-3792-443e-8406-75a827124908"
      },
      "execution_count": null,
      "outputs": [
        {
          "output_type": "stream",
          "name": "stdout",
          "text": [
            "1\n"
          ]
        }
      ]
    },
    {
      "cell_type": "code",
      "source": [
        "#Average\n",
        "L = [1,2,3,4,5,6,7,8,9,10]\n",
        "sum = 0\n",
        "avg = 0\n",
        "for ele in L:\n",
        "  sum +=ele\n",
        "avg = sum/10\n",
        "print(avg)\n"
      ],
      "metadata": {
        "colab": {
          "base_uri": "https://localhost:8080/"
        },
        "id": "SwAJu9beF6Tr",
        "outputId": "f5291c6a-bb3a-4b9e-f57c-ad7faebc2953"
      },
      "execution_count": null,
      "outputs": [
        {
          "output_type": "stream",
          "name": "stdout",
          "text": [
            "5.5\n"
          ]
        }
      ]
    },
    {
      "cell_type": "markdown",
      "source": [
        "# Medium"
      ],
      "metadata": {
        "id": "tTgX0TECCl7I"
      }
    },
    {
      "cell_type": "markdown",
      "source": [
        "**Problem Statement 01**\n",
        "\n",
        "Given a list\n",
        "\n",
        "L : [1,1,1,1,2,2,3,3,3,3,4,5]\n",
        "\n",
        "Write a program to print only unique elements\n",
        "\n",
        "Note : Don't convert List to Set"
      ],
      "metadata": {
        "id": "50dGoVcdHlyF"
      }
    },
    {
      "cell_type": "code",
      "source": [
        "L = [1,1,1,1,2,2,3,3,3,3,4,5]\n",
        "L1 = []\n",
        "for x in L:\n",
        "  if x not in L1:\n",
        "    L1.append(x)\n",
        "print(\"Unique List:\",L1)"
      ],
      "metadata": {
        "colab": {
          "base_uri": "https://localhost:8080/"
        },
        "id": "oBAF5ltgHzQE",
        "outputId": "4a9a0b1c-68bf-4b67-cae4-e1f54c8d955e"
      },
      "execution_count": null,
      "outputs": [
        {
          "output_type": "stream",
          "name": "stdout",
          "text": [
            "Unique List: [1, 2, 3, 4, 5]\n"
          ]
        }
      ]
    },
    {
      "cell_type": "markdown",
      "source": [
        "**Problem Statement 02**\n",
        "\n",
        "Given a list\n",
        "\n",
        "L = [1,2,3,4, [4,3] ]\n",
        "\n",
        "Check if the given number exist in the inner list"
      ],
      "metadata": {
        "id": "y6T3Jb_uJ3qg"
      }
    },
    {
      "cell_type": "code",
      "source": [
        "L = [1, 2, 3, 4, [4, 3]]\n",
        "number_to_check = int(input(\"Enter a number to check: \"))\n",
        "number_exists = False\n",
        "\n",
        "for item in L:\n",
        "    if type(item) == list:\n",
        "        if number_to_check in item:\n",
        "            number_exists = True\n",
        "            break\n",
        "    elif item == number_to_check:\n",
        "        number_exists = True\n",
        "        break\n",
        "\n",
        "if number_exists:\n",
        "    print(\"The number exists in the list.\")\n",
        "else:\n",
        "    print(\"The number does not exist in the list.\")"
      ],
      "metadata": {
        "colab": {
          "base_uri": "https://localhost:8080/"
        },
        "id": "xcVl0_9fKB4u",
        "outputId": "e60ba8f5-191c-4825-ee9d-f0b42d1333c3"
      },
      "execution_count": null,
      "outputs": [
        {
          "output_type": "stream",
          "name": "stdout",
          "text": [
            "Enter a number to check: 4\n",
            "The number exists in the list.\n"
          ]
        }
      ]
    },
    {
      "cell_type": "markdown",
      "source": [
        "# Hard"
      ],
      "metadata": {
        "id": "HGuDGqBnCmd_"
      }
    },
    {
      "cell_type": "markdown",
      "source": [
        "**Problem Statement 01**\n",
        "\n",
        "Given a list of lists\n",
        "\n",
        "numbers_nested = [[1,-1,2],[0,-5,3,5,-2],[1,2,1,0,-2,-3]]\n",
        "\n",
        "Write a program to grab only positive numbers in each nested list and put that in a new list"
      ],
      "metadata": {
        "id": "BAeCojOZLI_I"
      }
    },
    {
      "cell_type": "code",
      "source": [
        "numbers_nested = [[1,-1,2],[0,-5,3,5,-2],[1,2,1,0,-2,-3]]\n",
        "positive_numbers = []\n",
        "for x in numbers_nested:\n",
        "  for y in x:\n",
        "    if (y>0):\n",
        "      positive_numbers.append(y)\n",
        "print(positive_numbers)"
      ],
      "metadata": {
        "colab": {
          "base_uri": "https://localhost:8080/"
        },
        "id": "6JPYR18MLRZw",
        "outputId": "66226eaf-5f5b-4052-a4d3-d21e977a3efa"
      },
      "execution_count": null,
      "outputs": [
        {
          "output_type": "stream",
          "name": "stdout",
          "text": [
            "[1, 2, 3, 5, 1, 2, 1]\n"
          ]
        }
      ]
    },
    {
      "cell_type": "markdown",
      "source": [
        "**Problem Statement 02**\n",
        "\n",
        "Given a list of lists\n",
        "\n",
        "L = [ [1,2,3] , [ 4,5,6,3 ], [-1,-2,-10,5,8] ]\n",
        "\n",
        "\n",
        "\n",
        "Write a program to to print the average sum of value from each inner list and print the sum of each average"
      ],
      "metadata": {
        "id": "H34KBmMtOZwj"
      }
    },
    {
      "cell_type": "code",
      "source": [
        "L = [[1, 2, 3], [4, 5, 6, 3], [-1, -2, -10, 5, 8]]\n",
        "sum_of_averages = 0\n",
        "averages = []\n",
        "for inner_list in L:\n",
        "  average = sum(inner_list)/len(inner_list)\n",
        "  averages.append(average)\n",
        "  sum_of_averages+=average\n",
        "print(\"Average of each inner list:\",averages)\n",
        "print(\"Sum of averages:\",sum_of_averages)"
      ],
      "metadata": {
        "colab": {
          "base_uri": "https://localhost:8080/"
        },
        "id": "iZxms1wyQq7-",
        "outputId": "d4d34b62-4448-453c-851e-24718ee5973f"
      },
      "execution_count": 1,
      "outputs": [
        {
          "output_type": "stream",
          "name": "stdout",
          "text": [
            "Average of each inner list: [2.0, 4.5, 0.0]\n",
            "Sum of averages: 6.5\n"
          ]
        }
      ]
    }
  ]
}