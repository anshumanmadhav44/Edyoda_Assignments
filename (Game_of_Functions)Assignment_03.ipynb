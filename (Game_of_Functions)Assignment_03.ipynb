{
  "nbformat": 4,
  "nbformat_minor": 0,
  "metadata": {
    "colab": {
      "provenance": [],
      "authorship_tag": "ABX9TyPux/9P3eahGJO5Bx83PL+4",
      "include_colab_link": true
    },
    "kernelspec": {
      "name": "python3",
      "display_name": "Python 3"
    },
    "language_info": {
      "name": "python"
    }
  },
  "cells": [
    {
      "cell_type": "markdown",
      "metadata": {
        "id": "view-in-github",
        "colab_type": "text"
      },
      "source": [
        "<a href=\"https://colab.research.google.com/github/anshumanmadhav44/Edyoda_Assignments/blob/main/(Game_of_Functions)Assignment_03.ipynb\" target=\"_parent\"><img src=\"https://colab.research.google.com/assets/colab-badge.svg\" alt=\"Open In Colab\"/></a>"
      ]
    },
    {
      "cell_type": "markdown",
      "source": [
        " **Write a Python function to sum all the numbers in a list.**\n",
        "\n",
        "\n",
        "\n",
        "Sample List : (8, 2, 3, 0, 7)\n",
        "\n",
        "Expected Output : 20\n"
      ],
      "metadata": {
        "id": "PnEoi1ZPWTic"
      }
    },
    {
      "cell_type": "code",
      "source": [
        "def sum_numbers(numbers):\n",
        "    total = 0  \n",
        "    \n",
        "    for num in numbers:\n",
        "        total += num  \n",
        "    \n",
        "    return total  \n",
        "\n",
        "\n",
        "# Prompt the user to enter a list of numbers\n",
        "input_numbers = input(\"Enter a list of numbers, separated by spaces: \")\n",
        "\n",
        "# Convert the input string into a list of integers\n",
        "numbers = [int(num) for num in input_numbers.split()]\n",
        "\n",
        "# Call the sum_numbers function with the user-provided list\n",
        "result = sum_numbers(numbers)\n",
        "\n",
        "# Print the result\n",
        "print(\"Sum:\", result)\n"
      ],
      "metadata": {
        "colab": {
          "base_uri": "https://localhost:8080/"
        },
        "id": "7A0C2sx0Ztib",
        "outputId": "ed6790c2-7efc-4374-98b6-918877e50c23"
      },
      "execution_count": 6,
      "outputs": [
        {
          "output_type": "stream",
          "name": "stdout",
          "text": [
            "Enter a list of numbers, separated by spaces: 1 2 3 4 5\n",
            "Sum: 15\n"
          ]
        }
      ]
    },
    {
      "cell_type": "code",
      "source": [
        "#Verifying Functionality using Sample Values mentioned in the question\n",
        "input_numbers = input(\"Enter a list of numbers, separated by spaces: \")\n",
        "\n",
        "numbers = [int(num) for num in input_numbers.split()]\n",
        "\n",
        "result = sum_numbers(numbers)\n",
        "\n",
        "print(\"Sum:\", result)"
      ],
      "metadata": {
        "colab": {
          "base_uri": "https://localhost:8080/"
        },
        "id": "BOi6IjuQaAAP",
        "outputId": "4d1f8669-0623-41d7-a5ea-3deef2ef6b06"
      },
      "execution_count": 7,
      "outputs": [
        {
          "output_type": "stream",
          "name": "stdout",
          "text": [
            "Enter a list of numbers, separated by spaces: 8 2 3 0 7\n",
            "Sum: 20\n"
          ]
        }
      ]
    }
  ]
}