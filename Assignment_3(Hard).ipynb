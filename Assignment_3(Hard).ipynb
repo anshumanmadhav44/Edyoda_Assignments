{
  "nbformat": 4,
  "nbformat_minor": 0,
  "metadata": {
    "colab": {
      "provenance": [],
      "authorship_tag": "ABX9TyM4AK3BvlYbhP3K0NxxY8KS",
      "include_colab_link": true
    },
    "kernelspec": {
      "name": "python3",
      "display_name": "Python 3"
    },
    "language_info": {
      "name": "python"
    }
  },
  "cells": [
    {
      "cell_type": "markdown",
      "metadata": {
        "id": "view-in-github",
        "colab_type": "text"
      },
      "source": [
        "<a href=\"https://colab.research.google.com/github/anshumanmadhav44/Edyoda_Assignments/blob/main/Assignment_3(Hard).ipynb\" target=\"_parent\"><img src=\"https://colab.research.google.com/assets/colab-badge.svg\" alt=\"Open In Colab\"/></a>"
      ]
    },
    {
      "cell_type": "markdown",
      "source": [
        "**Problem Statement 01**\n",
        "\n",
        "Given a list of lists\n",
        "\n",
        "numbers_nested = [[1,-1,2],[0,-5,3,5,-2],[1,2,1,0,-2,-3]]\n",
        "\n",
        "Write a program to grab only positive numbers in each nested list and put that in a new list"
      ],
      "metadata": {
        "id": "yPwp_KfrEuvD"
      }
    },
    {
      "cell_type": "code",
      "execution_count": 1,
      "metadata": {
        "colab": {
          "base_uri": "https://localhost:8080/"
        },
        "id": "nruA13V2Erco",
        "outputId": "49f1d70a-7af5-42e9-d953-36b87f3cb7da"
      },
      "outputs": [
        {
          "output_type": "stream",
          "name": "stdout",
          "text": [
            "[1, 2, 3, 5, 1, 2, 1]\n"
          ]
        }
      ],
      "source": [
        "numbers_nested = [[1,-1,2],[0,-5,3,5,-2],[1,2,1,0,-2,-3]]\n",
        "positive_numbers = []\n",
        "for x in numbers_nested:\n",
        "  for y in x:\n",
        "    if (y>0):\n",
        "      positive_numbers.append(y)\n",
        "print(positive_numbers)"
      ]
    },
    {
      "cell_type": "markdown",
      "source": [
        "**Problem Statement 02**\n",
        "\n",
        "Given a list of lists\n",
        "\n",
        "L = [ [1,2,3] , [ 4,5,6,3 ], [-1,-2,-10,5,8] ]\n",
        "\n",
        "Write a program to to print the average sum of value from each inner list and print the sum of each average"
      ],
      "metadata": {
        "id": "G48hMeLtE7fB"
      }
    },
    {
      "cell_type": "code",
      "source": [
        "L = [[1, 2, 3], [4, 5, 6, 3], [-1, -2, -10, 5, 8]]\n",
        "sum_of_averages = 0\n",
        "averages = []\n",
        "for inner_list in L:\n",
        "  average = sum(inner_list)/len(inner_list)\n",
        "  averages.append(average)\n",
        "  sum_of_averages+=average\n",
        "print(\"Average of each inner list:\",averages)\n",
        "print(\"Sum of averages:\",sum_of_averages)"
      ],
      "metadata": {
        "id": "B9iLtBuKE90G",
        "outputId": "8d1784e8-731b-457f-f3de-7f5d54b68ee0",
        "colab": {
          "base_uri": "https://localhost:8080/"
        }
      },
      "execution_count": 2,
      "outputs": [
        {
          "output_type": "stream",
          "name": "stdout",
          "text": [
            "Average of each inner list: [2.0, 4.5, 0.0]\n",
            "Sum of averages: 6.5\n"
          ]
        }
      ]
    }
  ]
}