{
  "nbformat": 4,
  "nbformat_minor": 0,
  "metadata": {
    "colab": {
      "provenance": [],
      "authorship_tag": "ABX9TyPL8DU8SSokoK28WnzEn7c3",
      "include_colab_link": true
    },
    "kernelspec": {
      "name": "python3",
      "display_name": "Python 3"
    },
    "language_info": {
      "name": "python"
    }
  },
  "cells": [
    {
      "cell_type": "markdown",
      "metadata": {
        "id": "view-in-github",
        "colab_type": "text"
      },
      "source": [
        "<a href=\"https://colab.research.google.com/github/anshumanmadhav44/Edyoda_Assignments/blob/main/Assignment_2(Problem_1).ipynb\" target=\"_parent\"><img src=\"https://colab.research.google.com/assets/colab-badge.svg\" alt=\"Open In Colab\"/></a>"
      ]
    },
    {
      "cell_type": "markdown",
      "source": [
        "Given a list of numbers\n",
        "\n",
        "filenames = ['view.jpg', 'bear.jpg', 'ball.png']\n",
        "\n",
        "Write a program Add the file 'phone.jpg' to this list at the beginning. Then delete the file 'ball.png'. In response, print the filenames list to the console."
      ],
      "metadata": {
        "id": "GbR8rnTfB4iS"
      }
    },
    {
      "cell_type": "code",
      "execution_count": 1,
      "metadata": {
        "colab": {
          "base_uri": "https://localhost:8080/"
        },
        "id": "vfSDUt_FBism",
        "outputId": "b20a0fca-4f61-4865-84d4-bf2e4920f854"
      },
      "outputs": [
        {
          "output_type": "stream",
          "name": "stdout",
          "text": [
            "['view.jpg', 'bear.jpg', 'ball.png']\n",
            "['phone.jpg', 'view.jpg', 'bear.jpg', 'ball.png']\n",
            "['phone.jpg', 'view.jpg', 'bear.jpg']\n"
          ]
        }
      ],
      "source": [
        "filenames = ['view.jpg','bear.jpg','ball.png']\n",
        "print(filenames)\n",
        "#Adding 'phone.jpg' at the beginning of list\n",
        "filenames.insert(0,'phone.jpg')\n",
        "print(filenames)\n",
        "#Deleting 'ball.png'\n",
        "del filenames[3]\n",
        "print(filenames)"
      ]
    }
  ]
}