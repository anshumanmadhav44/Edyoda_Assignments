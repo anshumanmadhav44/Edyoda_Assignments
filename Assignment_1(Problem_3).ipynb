{
  "nbformat": 4,
  "nbformat_minor": 0,
  "metadata": {
    "colab": {
      "provenance": [],
      "authorship_tag": "ABX9TyPR4cVFTZUXY3Um2j78zgut",
      "include_colab_link": true
    },
    "kernelspec": {
      "name": "python3",
      "display_name": "Python 3"
    },
    "language_info": {
      "name": "python"
    }
  },
  "cells": [
    {
      "cell_type": "markdown",
      "metadata": {
        "id": "view-in-github",
        "colab_type": "text"
      },
      "source": [
        "<a href=\"https://colab.research.google.com/github/anshumanmadhav44/Edyoda_Assignments/blob/main/Assignment_1(Problem_3).ipynb\" target=\"_parent\"><img src=\"https://colab.research.google.com/assets/colab-badge.svg\" alt=\"Open In Colab\"/></a>"
      ]
    },
    {
      "cell_type": "markdown",
      "source": [
        "Problem Statement 3\n",
        "\n",
        "Write a program that prompts the user to input number of calls and calculate the monthly telephone bills as per the following rule:\n",
        "\n",
        "● Minimum Rs. 200 for up to 100 calls.\n",
        "\n",
        "● Plus Rs. 0.60 per call for next 50 calls.\n",
        "\n",
        "● Plus Rs. 0.50 per call for next 50 calls.\n",
        "\n",
        "● Plus Rs. 0.40 per call for any call beyond 200 calls."
      ],
      "metadata": {
        "id": "nVBgNvqCA6OS"
      }
    },
    {
      "cell_type": "code",
      "execution_count": 1,
      "metadata": {
        "colab": {
          "base_uri": "https://localhost:8080/"
        },
        "id": "oCnqwaleA1BO",
        "outputId": "773a857f-5104-441c-d84e-61a9e5132672"
      },
      "outputs": [
        {
          "output_type": "stream",
          "name": "stdout",
          "text": [
            "Enter number of calls: 250\n",
            "Total bill amount is: 275.0\n"
          ]
        }
      ],
      "source": [
        "call_count = int(input(\"Enter number of calls: \"))\n",
        "\n",
        "if call_count <= 100:\n",
        "    monthly_bill = 200\n",
        "elif call_count > 100 and call_count <= 150:\n",
        "    call_count = call_count - 100\n",
        "    monthly_bill = 200 + (0.60 * call_count)\n",
        "elif call_count > 150 and call_count <= 200:\n",
        "    call_count = call_count - 150\n",
        "    monthly_bill = 200 + (0.60 * 50) + (0.50 * call_count)\n",
        "else:\n",
        "    call_count = call_count - 200\n",
        "    monthly_bill = 200 + (0.60 * 50) + (0.50 * 50) + (0.40 * call_count)\n",
        "\n",
        "print(\"Total bill amount is:\", monthly_bill)"
      ]
    }
  ]
}