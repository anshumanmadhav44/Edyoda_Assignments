{
  "nbformat": 4,
  "nbformat_minor": 0,
  "metadata": {
    "colab": {
      "provenance": [],
      "toc_visible": true,
      "authorship_tag": "ABX9TyN8BWuCJ9TNwLO1g8l8wqRW",
      "include_colab_link": true
    },
    "kernelspec": {
      "name": "python3",
      "display_name": "Python 3"
    },
    "language_info": {
      "name": "python"
    }
  },
  "cells": [
    {
      "cell_type": "markdown",
      "metadata": {
        "id": "view-in-github",
        "colab_type": "text"
      },
      "source": [
        "<a href=\"https://colab.research.google.com/github/anshumanmadhav44/Edyoda_Assignments/blob/main/OOPS_Assignment.ipynb\" target=\"_parent\"><img src=\"https://colab.research.google.com/assets/colab-badge.svg\" alt=\"Open In Colab\"/></a>"
      ]
    },
    {
      "cell_type": "markdown",
      "source": [
        "# Challenge 1 : Square numbers and Return their Sum"
      ],
      "metadata": {
        "id": "t_HDdRo7mDYn"
      }
    },
    {
      "cell_type": "markdown",
      "source": [
        "In this challenge, we need to implement a method that squares passing variables and returns their sum.\n",
        "\n",
        "Sample properties 1, 3, 5\n",
        "\n",
        "Sample method output 35"
      ],
      "metadata": {
        "id": "D6BopvGmmUmX"
      }
    },
    {
      "cell_type": "code",
      "execution_count": 14,
      "metadata": {
        "colab": {
          "base_uri": "https://localhost:8080/"
        },
        "id": "0faqZhuAf8KV",
        "outputId": "4abdb26d-5ba4-4da9-830b-18139c20d0e3"
      },
      "outputs": [
        {
          "output_type": "stream",
          "name": "stdout",
          "text": [
            "Enter the first number:1\n",
            "Enter the second number:3\n",
            "Enter the third number:5\n",
            "Sum of Squares is:  35\n"
          ]
        }
      ],
      "source": [
        "class Point:\n",
        "\n",
        "    def __init__(self,x,y,z):\n",
        "        self.x = x\n",
        "        self.y = y\n",
        "        self.z = z\n",
        "    \n",
        "    def sqSum(self):\n",
        "      print(\"Sum of Squares is: \",(self.x**2) + (self.y**2) + (self.z**2))\n",
        "\n",
        "x = int(input(\"Enter the first number:\")) \n",
        "y = int(input(\"Enter the second number:\"))\n",
        "z = int(input(\"Enter the third number:\"))       \n",
        "\n",
        "X = Point(x,y,z)\n",
        "X.sqSum()"
      ]
    },
    {
      "cell_type": "markdown",
      "source": [
        "# Challenge 2 : Implement a Calculator Class"
      ],
      "metadata": {
        "id": "ygTWd7ajmjZq"
      }
    },
    {
      "cell_type": "markdown",
      "source": [
        "In this exercise, we have to implement a calculator that can perform addition, subtraction, multiplication, and division.\n",
        "\n"
      ],
      "metadata": {
        "id": "8F-1bafimqyP"
      }
    },
    {
      "cell_type": "code",
      "source": [
        "class Calculator:\n",
        "\n",
        "    def __init__(self,x,y):\n",
        "        self.x = x\n",
        "        self.y = y\n",
        "    def add(self):\n",
        "        print(\"Addition Result: \",(self.x) + (self.y))\n",
        "    def subtract(self):\n",
        "        print(\"Subtraction Result: \",(self.y) - (self.x))\n",
        "    def multiply(self):\n",
        "        print(\"Multiplication Result: \",(self.x) * (self.y))\n",
        "    def divide(self):\n",
        "        print(\"Division Result: \",(self.y) / (self.x))\n",
        "\n",
        "#Enter the numbers on which you want to perform mathematical operations\n",
        "x = int(input(\"Enter the first number:\")) \n",
        "y = int(input(\"Enter the second number:\"))       \n",
        "\n",
        "obj = Calculator(x,y)\n",
        "obj.add()\n",
        "obj.subtract()\n",
        "obj.multiply()\n",
        "obj.divide()"
      ],
      "metadata": {
        "colab": {
          "base_uri": "https://localhost:8080/"
        },
        "id": "pdw6I1ifm-6M",
        "outputId": "1abad96b-90d3-4c46-cad4-2a7837173d9c"
      },
      "execution_count": 17,
      "outputs": [
        {
          "output_type": "stream",
          "name": "stdout",
          "text": [
            "Enter the first number:10\n",
            "Enter the second number:94\n",
            "Addition Result:  104\n",
            "Subtraction Result:  84\n",
            "Multiplication Result:  940\n",
            "Division Result:  9.4\n"
          ]
        }
      ]
    },
    {
      "cell_type": "markdown",
      "source": [
        "# Challenge 3: Implement the Complete Student Class"
      ],
      "metadata": {
        "id": "ItpMn_3_qMIK"
      }
    },
    {
      "cell_type": "code",
      "source": [
        "class Student:\n",
        "\n",
        "    def setName(self,name):\n",
        "        self.__name = name\n",
        "    def getName(self):\n",
        "        print(\"Name provided is: \",self.__name)\n",
        "    def setRollNumber(self,RollNumber):\n",
        "        self.__RollNumber = RollNumber\n",
        "    def getRollNumber(self):\n",
        "        print(\"Roll Number is: \",self.__RollNumber)\n",
        "\n",
        "name = input(\"Enter name:\")\n",
        "roll = int(input(\"Enter roll:\"))\n",
        "\n",
        "obj = Student()\n",
        "obj.setName(name)\n",
        "obj.getName()\n",
        "obj.setRollNumber(roll)\n",
        "obj.getRollNumber()"
      ],
      "metadata": {
        "colab": {
          "base_uri": "https://localhost:8080/"
        },
        "id": "UoBGBDB2rLUz",
        "outputId": "385b417f-076a-4f65-fe0b-3aad243eafb7"
      },
      "execution_count": 27,
      "outputs": [
        {
          "output_type": "stream",
          "name": "stdout",
          "text": [
            "Enter name:Anshuman\n",
            "Enter roll:44\n",
            "Name provided is:  Anshuman\n",
            "Roll Number is:  44\n"
          ]
        }
      ]
    },
    {
      "cell_type": "markdown",
      "source": [
        "# Challenge 4: Implement a Banking Account"
      ],
      "metadata": {
        "id": "5ZX6vddFDOAM"
      }
    },
    {
      "cell_type": "code",
      "source": [
        "class Account:\n",
        "\n",
        "    def __init__(self,title=None,Balance=0):\n",
        "      self.title = title\n",
        "      self.Balance = Balance\n",
        "      \n",
        "class SavingsAccount(Account):\n",
        "\n",
        "    def __init__(self,title=None,Balance=0,interestRate=0):\n",
        "        Account.__init__(self,title,Balance) #Calling Parent Class Initializer\n",
        "        self.interestRate=interestRate\n",
        "        print(f\"{self.title} is the title and {self.Balance} is the balance and {self.interestRate} is the interestRate\")\n",
        "\n",
        "\n",
        "SavingsAccount = SavingsAccount(\"Ashish\",5000,5)\n",
        "\n",
        "\n",
        "\n",
        "\n",
        "\n",
        "        "
      ],
      "metadata": {
        "colab": {
          "base_uri": "https://localhost:8080/"
        },
        "id": "ncchMafmDTzv",
        "outputId": "82fb9078-f6d0-48fe-cd88-e95eb3429744"
      },
      "execution_count": 8,
      "outputs": [
        {
          "output_type": "stream",
          "name": "stdout",
          "text": [
            "Ashish is the title and 5000 is the balance and 5 is the interestRate\n"
          ]
        }
      ]
    },
    {
      "cell_type": "markdown",
      "source": [
        "# Challenge 5: Handling a Bank Account"
      ],
      "metadata": {
        "id": "22sNxTfLU9cP"
      }
    },
    {
      "cell_type": "code",
      "source": [
        "class Account:\n",
        "    def __init__(self, title=None, balance=0):\n",
        "        self.title = title\n",
        "        self.balance = balance\n",
        "    \n",
        "    def withdrawal(self, amount):\n",
        "        self.balance -=amount\n",
        "\n",
        "    def deposit(self,amount):\n",
        "        self.balance +=amount\n",
        "    \n",
        "    def getBalance(self):\n",
        "        print(self.balance)\n",
        "\n",
        "class SavingsAccount(Account):\n",
        "    def __init__(self, title=None, balance=0, interestRate=0):\n",
        "            super().__init__(title, balance)\n",
        "            self.interestRate = interestRate\n",
        "    \n",
        "    def interestAmount(self):\n",
        "      interestAmount = (self.balance * self.interestRate)/100\n",
        "      print(interestAmount)\n",
        "\n",
        "demo1 = SavingsAccount(\"Ashish\", 2000, 5)\n",
        "print(\"****Calculating Interest Amount****\")\n",
        "demo1.interestAmount()\n",
        "demo2 = Account(\"Ashish\",2000)\n",
        "print(\"****Displaying Initial Balance****\")\n",
        "demo2.getBalance()\n",
        "demo2.deposit(500)\n",
        "print(\"****Balance after Deposit****\")\n",
        "demo2.getBalance()\n",
        "demo2.withdrawal(500)\n",
        "print(\"****Balance after Withdrawal****\")\n",
        "demo2.getBalance()\n",
        "        "
      ],
      "metadata": {
        "colab": {
          "base_uri": "https://localhost:8080/"
        },
        "id": "mrNCX6AOa8vO",
        "outputId": "0a0d9c0f-f84b-4010-a6da-dac4616896b0"
      },
      "execution_count": 12,
      "outputs": [
        {
          "output_type": "stream",
          "name": "stdout",
          "text": [
            "****Calculating Interest Amount****\n",
            "100.0\n",
            "****Displaying Initial Balance****\n",
            "2000\n",
            "****Balance after Deposit****\n",
            "2500\n",
            "****Balance after Withdrawal****\n",
            "2000\n"
          ]
        }
      ]
    }
  ]
}