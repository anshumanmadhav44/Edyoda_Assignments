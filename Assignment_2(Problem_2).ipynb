{
  "nbformat": 4,
  "nbformat_minor": 0,
  "metadata": {
    "colab": {
      "provenance": [],
      "authorship_tag": "ABX9TyO0T0SmGzC2LtAUp8wvTB1O",
      "include_colab_link": true
    },
    "kernelspec": {
      "name": "python3",
      "display_name": "Python 3"
    },
    "language_info": {
      "name": "python"
    }
  },
  "cells": [
    {
      "cell_type": "markdown",
      "metadata": {
        "id": "view-in-github",
        "colab_type": "text"
      },
      "source": [
        "<a href=\"https://colab.research.google.com/github/anshumanmadhav44/Edyoda_Assignments/blob/main/Assignment_2(Problem_2).ipynb\" target=\"_parent\"><img src=\"https://colab.research.google.com/assets/colab-badge.svg\" alt=\"Open In Colab\"/></a>"
      ]
    },
    {
      "cell_type": "markdown",
      "source": [
        "**Problem Statement 02**\n",
        "\n",
        "L = [1,2,3,4,5,6,7,8,9,10]\n",
        "\n",
        "Write a program to find the maximum,minimum and average element in a given list without using max."
      ],
      "metadata": {
        "id": "FPfE18DTCkM_"
      }
    },
    {
      "cell_type": "code",
      "execution_count": 1,
      "metadata": {
        "colab": {
          "base_uri": "https://localhost:8080/"
        },
        "id": "THCqIW_dCfP9",
        "outputId": "a4de0cad-4091-4aef-c903-522bdd5c8987"
      },
      "outputs": [
        {
          "output_type": "stream",
          "name": "stdout",
          "text": [
            "10\n"
          ]
        }
      ],
      "source": [
        "#Maximum\n",
        "L = [1,2,3,4,5,6,7,8,9,10]\n",
        "max = L[0]\n",
        "for ele in L:\n",
        "  if (max < ele):\n",
        "    max = ele\n",
        "print(max)"
      ]
    },
    {
      "cell_type": "code",
      "source": [
        "#Minimum\n",
        "L = [1,2,3,4,5,6,7,8,9,10]\n",
        "min = L[0]\n",
        "for ele in L:\n",
        "  if (ele < min):\n",
        "    min = ele\n",
        "print(min)"
      ],
      "metadata": {
        "colab": {
          "base_uri": "https://localhost:8080/"
        },
        "id": "0LJ12opdCoLP",
        "outputId": "3d291456-f935-415f-ce71-c0a4fbc050c6"
      },
      "execution_count": 2,
      "outputs": [
        {
          "output_type": "stream",
          "name": "stdout",
          "text": [
            "1\n"
          ]
        }
      ]
    },
    {
      "cell_type": "code",
      "source": [
        "#Average\n",
        "L = [1,2,3,4,5,6,7,8,9,10]\n",
        "sum = 0\n",
        "avg = 0\n",
        "for ele in L:\n",
        "  sum +=ele\n",
        "avg = sum/10\n",
        "print(avg)"
      ],
      "metadata": {
        "colab": {
          "base_uri": "https://localhost:8080/"
        },
        "id": "CGtzmGe5CsHo",
        "outputId": "8266b580-76fc-4f02-c86d-8645c61c5f83"
      },
      "execution_count": 3,
      "outputs": [
        {
          "output_type": "stream",
          "name": "stdout",
          "text": [
            "5.5\n"
          ]
        }
      ]
    }
  ]
}