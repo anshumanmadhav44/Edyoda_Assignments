{
  "nbformat": 4,
  "nbformat_minor": 0,
  "metadata": {
    "colab": {
      "provenance": [],
      "authorship_tag": "ABX9TyNTAksqB3T940lZV/W7Rw0c",
      "include_colab_link": true
    },
    "kernelspec": {
      "name": "python3",
      "display_name": "Python 3"
    },
    "language_info": {
      "name": "python"
    }
  },
  "cells": [
    {
      "cell_type": "markdown",
      "metadata": {
        "id": "view-in-github",
        "colab_type": "text"
      },
      "source": [
        "<a href=\"https://colab.research.google.com/github/anshumanmadhav44/Edyoda_Assignments/blob/main/Play_with_Lambda(Assignment_04).ipynb\" target=\"_parent\"><img src=\"https://colab.research.google.com/assets/colab-badge.svg\" alt=\"Open In Colab\"/></a>"
      ]
    },
    {
      "cell_type": "markdown",
      "source": [
        "**Write a Python program to create a lambda function that adds 25 to a given number passed in as an argument.**\n",
        "\n",
        "sample input: 10\n",
        "\n",
        "sample output: 35"
      ],
      "metadata": {
        "id": "QyHVVZRGAxb0"
      }
    },
    {
      "cell_type": "code",
      "execution_count": 3,
      "metadata": {
        "colab": {
          "base_uri": "https://localhost:8080/"
        },
        "id": "UCCX71-gAk4Y",
        "outputId": "affb3948-0957-42cf-d7c4-b4ebaa530461"
      },
      "outputs": [
        {
          "output_type": "stream",
          "name": "stdout",
          "text": [
            "Enter any integer number:75\n",
            "The result of adding 25 to 75 is: 100\n"
          ]
        }
      ],
      "source": [
        "add_25 = lambda num: num + 25\n",
        "\n",
        "# Testing the lambda function\n",
        "num = int(input(\"Enter any integer number:\"))\n",
        "result = add_25(num)\n",
        "print(f\"The result of adding 25 to {num} is: {result}\")"
      ]
    }
  ]
}