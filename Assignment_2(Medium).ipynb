{
  "nbformat": 4,
  "nbformat_minor": 0,
  "metadata": {
    "colab": {
      "provenance": [],
      "authorship_tag": "ABX9TyNiFXIscRNnZdusuSK523gO",
      "include_colab_link": true
    },
    "kernelspec": {
      "name": "python3",
      "display_name": "Python 3"
    },
    "language_info": {
      "name": "python"
    }
  },
  "cells": [
    {
      "cell_type": "markdown",
      "metadata": {
        "id": "view-in-github",
        "colab_type": "text"
      },
      "source": [
        "<a href=\"https://colab.research.google.com/github/anshumanmadhav44/Edyoda_Assignments/blob/main/Assignment_2(Medium).ipynb\" target=\"_parent\"><img src=\"https://colab.research.google.com/assets/colab-badge.svg\" alt=\"Open In Colab\"/></a>"
      ]
    },
    {
      "cell_type": "markdown",
      "source": [
        "**Problem Statement 01**\n",
        "\n",
        "Given a list\n",
        "\n",
        "L : [1,1,1,1,2,2,3,3,3,3,4,5]\n",
        "\n",
        "Write a program to print only unique elements\n",
        "\n",
        "Note : Don't convert List to Set"
      ],
      "metadata": {
        "id": "ACowz3JnDzqR"
      }
    },
    {
      "cell_type": "code",
      "execution_count": 1,
      "metadata": {
        "colab": {
          "base_uri": "https://localhost:8080/"
        },
        "id": "bFKNTSoFDvF3",
        "outputId": "acad4188-aefd-4556-edca-cf5fe16bf485"
      },
      "outputs": [
        {
          "output_type": "stream",
          "name": "stdout",
          "text": [
            "Unique List: [1, 2, 3, 4, 5]\n"
          ]
        }
      ],
      "source": [
        "L = [1,1,1,1,2,2,3,3,3,3,4,5]\n",
        "L1 = []\n",
        "for x in L:\n",
        "  if x not in L1:\n",
        "    L1.append(x)\n",
        "print(\"Unique List:\",L1)"
      ]
    },
    {
      "cell_type": "markdown",
      "source": [
        "**Given a list**\n",
        "\n",
        "L = [1,2,3,4, [4,3] ]\n",
        "\n",
        "Check if the given number exist in the inner list"
      ],
      "metadata": {
        "id": "Dr6mIRnxEDUm"
      }
    },
    {
      "cell_type": "code",
      "source": [
        "L = [1, 2, 3, 4, [4, 3]]\n",
        "number_to_check = int(input(\"Enter a number to check: \"))\n",
        "number_exists = False\n",
        "\n",
        "for item in L:\n",
        "    if type(item) == list:\n",
        "        if number_to_check in item:\n",
        "            number_exists = True\n",
        "            break\n",
        "    elif item == number_to_check:\n",
        "        number_exists = True\n",
        "        break\n",
        "\n",
        "if number_exists:\n",
        "    print(\"The number exists in the list.\")\n",
        "else:\n",
        "    print(\"The number does not exist in the list.\")"
      ],
      "metadata": {
        "colab": {
          "base_uri": "https://localhost:8080/"
        },
        "id": "bJJRp4WTECL8",
        "outputId": "4885be26-016c-41a7-d153-bdbd3fe0bf6a"
      },
      "execution_count": 2,
      "outputs": [
        {
          "output_type": "stream",
          "name": "stdout",
          "text": [
            "Enter a number to check: 5\n",
            "The number does not exist in the list.\n"
          ]
        }
      ]
    }
  ]
}