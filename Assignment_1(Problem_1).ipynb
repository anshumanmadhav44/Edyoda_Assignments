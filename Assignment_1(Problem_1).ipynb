{
  "nbformat": 4,
  "nbformat_minor": 0,
  "metadata": {
    "colab": {
      "provenance": [],
      "authorship_tag": "ABX9TyN5zy/Ox0D06/GeFH3RjODx",
      "include_colab_link": true
    },
    "kernelspec": {
      "name": "python3",
      "display_name": "Python 3"
    },
    "language_info": {
      "name": "python"
    }
  },
  "cells": [
    {
      "cell_type": "markdown",
      "metadata": {
        "id": "view-in-github",
        "colab_type": "text"
      },
      "source": [
        "<a href=\"https://colab.research.google.com/github/anshumanmadhav44/Edyoda_Assignments/blob/main/Assignment_1(Problem_1).ipynb\" target=\"_parent\"><img src=\"https://colab.research.google.com/assets/colab-badge.svg\" alt=\"Open In Colab\"/></a>"
      ]
    },
    {
      "cell_type": "markdown",
      "source": [
        "Problem Statement 1\n",
        "\n",
        "Write a program that takes a integer from keyboard and prints a string according the business logic given below\n",
        "\n",
        "1. For each multiple of 3, Print 'Fizz',\n",
        "\n",
        "2. For each multiple of 5, Print Fuzz\n",
        "\n",
        "3. For each multiple of 3 and 5 Print 'Fizz Buzz"
      ],
      "metadata": {
        "id": "T4RIrVgt_jh7"
      }
    },
    {
      "cell_type": "code",
      "execution_count": 1,
      "metadata": {
        "colab": {
          "base_uri": "https://localhost:8080/"
        },
        "id": "40XXAkmo_jED",
        "outputId": "707b20a4-442b-434c-ce36-fb9f34ec8d77"
      },
      "outputs": [
        {
          "output_type": "stream",
          "name": "stdout",
          "text": [
            "Enter an integer:15\n",
            "Fizz Buzz\n"
          ]
        }
      ],
      "source": [
        "num = int(input(\"Enter an integer:\"))\n",
        "if (num%3 == 0) and (num%5==0):\n",
        "    print(\"Fizz Buzz\")\n",
        "elif (num%3==0):\n",
        "    print(\"Fizz\")\n",
        "elif (num%5==0):\n",
        "    print(\"Fuzz\")"
      ]
    }
  ]
}