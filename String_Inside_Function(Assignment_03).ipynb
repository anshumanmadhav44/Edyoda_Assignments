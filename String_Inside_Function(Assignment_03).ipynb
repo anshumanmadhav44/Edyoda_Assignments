{
  "nbformat": 4,
  "nbformat_minor": 0,
  "metadata": {
    "colab": {
      "provenance": [],
      "authorship_tag": "ABX9TyO4g4EwtEx28C7xWk5xOBpl",
      "include_colab_link": true
    },
    "kernelspec": {
      "name": "python3",
      "display_name": "Python 3"
    },
    "language_info": {
      "name": "python"
    }
  },
  "cells": [
    {
      "cell_type": "markdown",
      "metadata": {
        "id": "view-in-github",
        "colab_type": "text"
      },
      "source": [
        "<a href=\"https://colab.research.google.com/github/anshumanmadhav44/Edyoda_Assignments/blob/main/String_Inside_Function(Assignment_03).ipynb\" target=\"_parent\"><img src=\"https://colab.research.google.com/assets/colab-badge.svg\" alt=\"Open In Colab\"/></a>"
      ]
    },
    {
      "cell_type": "markdown",
      "source": [
        "**Write a Python program to reverse a string.**\n",
        "\n",
        "﻿Sample String : \"1234abcd\"\n",
        "\n",
        "Expected Output : \"dcba4321\""
      ],
      "metadata": {
        "id": "8EHUBNU_bneH"
      }
    },
    {
      "cell_type": "code",
      "execution_count": 1,
      "metadata": {
        "colab": {
          "base_uri": "https://localhost:8080/"
        },
        "id": "j4dQlMywbhLu",
        "outputId": "8332a3bb-f6b7-45b4-8c59-e1e9e24c426c"
      },
      "outputs": [
        {
          "output_type": "stream",
          "name": "stdout",
          "text": [
            "Enter a string: 1234abcd\n",
            "Reversed string: dcba4321\n"
          ]
        }
      ],
      "source": [
        "def reverse_string(string):\n",
        "    return string[::-1]\n",
        "\n",
        "# Prompt the user to enter a string\n",
        "input_string = input(\"Enter a string: \")\n",
        "\n",
        "# Call the reverse_string function with the user-provided string\n",
        "result = reverse_string(input_string)\n",
        "\n",
        "# Print the reversed string\n",
        "print(\"Reversed string:\", result)"
      ]
    }
  ]
}